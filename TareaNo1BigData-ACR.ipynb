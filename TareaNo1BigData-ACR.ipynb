{
 "cells": [
  {
   "cell_type": "markdown",
   "metadata": {},
   "source": [
    "## Tarea No.2 BIG DATA - Segunda Parte\n",
    "### Anthony Cascante"
   ]
  },
  {
   "cell_type": "markdown",
   "metadata": {},
   "source": [
    "## Dataset con resultados elecciones municipales Canton Central San Jose"
   ]
  },
  {
   "cell_type": "code",
   "execution_count": 1,
   "metadata": {},
   "outputs": [],
   "source": [
    "#INSTALACION DE LIBRERIAS\n",
    "import findspark\n",
    "findspark.init('/opt/spark')\n",
    "import pyspark"
   ]
  },
  {
   "cell_type": "code",
   "execution_count": 2,
   "metadata": {},
   "outputs": [],
   "source": [
    "from pyspark.context import SparkContext\n",
    "from pyspark.sql.session import SparkSession\n",
    "sc = SparkContext('local')\n",
    "spark = SparkSession(sc)"
   ]
  },
  {
   "cell_type": "code",
   "execution_count": 3,
   "metadata": {},
   "outputs": [],
   "source": [
    "import pyspark.sql.functions as F\n",
    "from pyspark.sql.types import *"
   ]
  },
  {
   "cell_type": "code",
   "execution_count": 4,
   "metadata": {},
   "outputs": [],
   "source": [
    "#from datetime import datetime\n",
    "from pyspark.sql.functions import col, date_format, udf \n",
    "#from pyspark.sql.types import DateType\n",
    "#from datetime import datetime"
   ]
  },
  {
   "cell_type": "code",
   "execution_count": 5,
   "metadata": {},
   "outputs": [],
   "source": [
    "schema=StructType().add(\"DISTRITO\",\"string\").add(\"TOTAL\",\"integer\").add(\"VT\",\"integer\").add(\"AT\", \"integer\").add(\"ATP\",'integer').add(\"TH\", \"integer\").add(\"VH\", \"integer\").add(\"AH\", \"integer\").add(\"AHP\", \"integer\").add(\"TM\", \"integer\").add(\"VM\", \"integer\").add(\"AM\", \"integer\").add(\"AMP\", \"integer\")"
   ]
  },
  {
   "cell_type": "markdown",
   "metadata": {},
   "source": [
    "### CARGA DE ARCHIVO DE DATOS\n",
    "El archivo SANJOSE.csv posee los resultados de las elecciones municipales para la Alcaldia por el canton central de San Jose en el 2016.  Se incluyen votos recibidos por partido y abstecionismo por genero,  por cada uno de los 11 distritos del canton.\n",
    "\n"
   ]
  },
  {
   "cell_type": "markdown",
   "metadata": {},
   "source": [
    "\n",
    "### Caracteristicas del Dataset\n",
    "#### Todos los datos son por distrito\n",
    "\n",
    "DISTRITO: Distrito\n",
    "\n",
    "TOTAL: Total electores \n",
    "\n",
    "VT: Total Votos\n",
    "\n",
    "AT: Total abstenciones\n",
    "\n",
    "ATP: Porcentaje abstenciones\n",
    "\n",
    "TH: Total electores hombres\n",
    "\n",
    "VH: Total Votos hombres\n",
    "\n",
    "AH: Total abstenciones hombres\n",
    "\n",
    "AHP: Porcentaje abstenciones hombres\n",
    "\n",
    "TM: Total electores mujeres\n",
    "\n",
    "VM: Total votos mujeres\n",
    "\n",
    "AM: Total abstenciones mujres\n",
    "\n",
    "AMP: Porcentaje abstenciones mujeres\n",
    "\n",
    "PAC: Votos recibidos PAC \n",
    "\n",
    "ASJ: Votos recibidos Alianza San Jose\n",
    "\n",
    "TRAB: Votos recibidos P. Trabajadores\n",
    "\n",
    "FA: Votos recibidos Frente Amplio\n",
    "\n",
    "FUC: Votos recibidos Union Cambio\n",
    "\n",
    "PIN: Votos recibidos Integracion Nacional\n",
    "\n",
    "PLN: Votos recibidos Liberacion Nacional\n",
    "\n",
    "ML: Votos recibidos Movimiento Libertario\n",
    "\n",
    "NG: Votos recibidos Nueva Generacion\n",
    "\n",
    "RENOV: Votos recibidos Renovacion\n",
    "\n",
    "REPUB: Votos recibidos Republicano\n",
    "\n",
    "SOL: Votos recibidos Solidaridad\n",
    "\n",
    "PUSC: Votos recibidos Unidad Socialcristiano\n",
    "\n",
    "NULOS: Votos nulos\n",
    "\n",
    "BLANCO: Votos en blanco"
   ]
  },
  {
   "cell_type": "code",
   "execution_count": 6,
   "metadata": {},
   "outputs": [],
   "source": [
    "#Carga del dataset\n",
    "df3=spark.read.csv(\"/Users/AC/SANJOSE.csv\",header=True, inferSchema=True, sep=\";\")"
   ]
  },
  {
   "cell_type": "code",
   "execution_count": 7,
   "metadata": {},
   "outputs": [
    {
     "data": {
      "text/plain": [
       "11"
      ]
     },
     "execution_count": 7,
     "metadata": {},
     "output_type": "execute_result"
    }
   ],
   "source": [
    "#Exploracion inicial del dataset - Numero de filas\n",
    "df3.count()"
   ]
  },
  {
   "cell_type": "code",
   "execution_count": 8,
   "metadata": {},
   "outputs": [
    {
     "data": {
      "text/plain": [
       "29"
      ]
     },
     "execution_count": 8,
     "metadata": {},
     "output_type": "execute_result"
    }
   ],
   "source": [
    "#Exploracion inicial del dataset - Numero de columnas\n",
    "len(df3.columns)"
   ]
  },
  {
   "cell_type": "code",
   "execution_count": 9,
   "metadata": {},
   "outputs": [
    {
     "name": "stdout",
     "output_type": "stream",
     "text": [
      "root\n",
      " |-- DISTRITO: string (nullable = true)\n",
      " |-- TOTAL: integer (nullable = true)\n",
      " |-- VT: integer (nullable = true)\n",
      " |-- AT: integer (nullable = true)\n",
      " |-- ATP: string (nullable = true)\n",
      " |-- TH: integer (nullable = true)\n",
      " |-- VH: integer (nullable = true)\n",
      " |-- AH: integer (nullable = true)\n",
      " |-- AHP: string (nullable = true)\n",
      " |-- TM: integer (nullable = true)\n",
      " |-- VM: integer (nullable = true)\n",
      " |-- AM: integer (nullable = true)\n",
      " |-- AMP: string (nullable = true)\n",
      " |-- PAC: integer (nullable = true)\n",
      " |-- ASJ: integer (nullable = true)\n",
      " |-- TRAB: integer (nullable = true)\n",
      " |-- FA: integer (nullable = true)\n",
      " |-- FUC: integer (nullable = true)\n",
      " |-- PIN: integer (nullable = true)\n",
      " |-- PLN: integer (nullable = true)\n",
      " |-- ML: integer (nullable = true)\n",
      " |-- NG: integer (nullable = true)\n",
      " |-- RENOV: integer (nullable = true)\n",
      " |-- REPUB: integer (nullable = true)\n",
      " |-- SOL: integer (nullable = true)\n",
      " |-- PUSC: integer (nullable = true)\n",
      " |-- NULOS: integer (nullable = true)\n",
      " |-- BLANCO: integer (nullable = true)\n",
      " |-- _c28: string (nullable = true)\n",
      "\n"
     ]
    }
   ],
   "source": [
    "#Exploracion inicial del dataset - Verificacion del Esquema\n",
    "df3.printSchema()"
   ]
  },
  {
   "cell_type": "markdown",
   "metadata": {},
   "source": [
    "### Algunos analisis de los datos\n",
    "#### Comparacion del abstencionismo por distrito:"
   ]
  },
  {
   "cell_type": "code",
   "execution_count": 10,
   "metadata": {},
   "outputs": [
    {
     "name": "stdout",
     "output_type": "stream",
     "text": [
      "+--------------------+-----+\n",
      "|            DISTRITO|   AT|\n",
      "+--------------------+-----+\n",
      "|               PAVAS|36735|\n",
      "|             HATILLO|32674|\n",
      "|       SAN SEBASTI�N|22564|\n",
      "|            HOSPITAL|14223|\n",
      "|SAN FRANCISCO DE ...|13298|\n",
      "|              ZAPOTE|13157|\n",
      "|            CATEDRAL|11166|\n",
      "|               URUCA|11156|\n",
      "|              MERCED| 7091|\n",
      "|        MATA REDONDA| 5070|\n",
      "|              CARMEN| 3401|\n",
      "+--------------------+-----+\n",
      "\n"
     ]
    }
   ],
   "source": [
    "df3.select(['DISTRITO','AT']).orderBy('AT',ascending=False). show()"
   ]
  },
  {
   "cell_type": "markdown",
   "metadata": {},
   "source": [
    "#### Comparacion del abstencionismo por distrito por genero:"
   ]
  },
  {
   "cell_type": "code",
   "execution_count": 11,
   "metadata": {},
   "outputs": [
    {
     "name": "stdout",
     "output_type": "stream",
     "text": [
      "+--------------------+----+----+\n",
      "|            DISTRITO| AHP| AMP|\n",
      "+--------------------+----+----+\n",
      "|              CARMEN|70,3|73,7|\n",
      "|              MERCED|73,4|71,0|\n",
      "|            HOSPITAL|76,3|70,9|\n",
      "|            CATEDRAL|73,4|73,5|\n",
      "|              ZAPOTE|73,7|72,7|\n",
      "|SAN FRANCISCO DE ...|72,6|71,9|\n",
      "|               URUCA|74,8|73,3|\n",
      "|        MATA REDONDA|69,1|67,7|\n",
      "|               PAVAS|75,2|72,6|\n",
      "|             HATILLO|75,5|73,5|\n",
      "|       SAN SEBASTI�N|75,9|73,9|\n",
      "+--------------------+----+----+\n",
      "\n"
     ]
    }
   ],
   "source": [
    "df3.select(['DISTRITO','AHP','AMP']). show()"
   ]
  },
  {
   "cell_type": "markdown",
   "metadata": {},
   "source": [
    "### Comparacion entre candidato ganador, PLN, PAC, PUSC, ABSTENCIONISMO"
   ]
  },
  {
   "cell_type": "code",
   "execution_count": 12,
   "metadata": {},
   "outputs": [
    {
     "name": "stdout",
     "output_type": "stream",
     "text": [
      "+--------------------+---+----+----+----+-----+\n",
      "|            DISTRITO|PAC| PLN| ASJ|PUSC|   AT|\n",
      "+--------------------+---+----+----+----+-----+\n",
      "|              CARMEN|116| 222| 340| 187| 3401|\n",
      "|              MERCED|123| 459|1028| 221| 7091|\n",
      "|            HOSPITAL|272| 856|2459| 424|14223|\n",
      "|            CATEDRAL|353| 672|1313| 591|11166|\n",
      "|              ZAPOTE|327| 811|1578| 495|13157|\n",
      "|SAN FRANCISCO DE ...|329| 764|1612| 627|13298|\n",
      "|               URUCA|288| 784|1199| 410|11156|\n",
      "|        MATA REDONDA|149| 450| 737| 356| 5070|\n",
      "|               PAVAS|551|1969|4761|1499|36735|\n",
      "|             HATILLO|347|1555|5471| 802|32674|\n",
      "|       SAN SEBASTI�N|336| 994|3427| 710|22564|\n",
      "+--------------------+---+----+----+----+-----+\n",
      "\n"
     ]
    }
   ],
   "source": [
    "df3.select(['DISTRITO','PAC','PLN', 'ASJ','PUSC','AT']).show()"
   ]
  },
  {
   "cell_type": "markdown",
   "metadata": {},
   "source": [
    "#### Comparacion entre total de votos de los cuatro partidos con mas votacion (total4) Vrs Abstencionismo (AT)"
   ]
  },
  {
   "cell_type": "code",
   "execution_count": 13,
   "metadata": {},
   "outputs": [
    {
     "data": {
      "text/plain": [
       "(Column<b'PAC'>, Column<b'PLN'>, Column<b'ASj'>, Column<b'PUSC'>)"
      ]
     },
     "execution_count": 13,
     "metadata": {},
     "output_type": "execute_result"
    }
   ],
   "source": [
    "columnsToSum = (col(\"PAC\"), col(\"PLN\"), col(\"ASj\"), col(\"PUSC\"))\n",
    "newdf = df3.withColumn('total4', sum(columnsToSum))\n",
    "columnsToSum"
   ]
  },
  {
   "cell_type": "code",
   "execution_count": 14,
   "metadata": {},
   "outputs": [
    {
     "name": "stdout",
     "output_type": "stream",
     "text": [
      "+--------------------+-----+------+\n",
      "|            DISTRITO|   AT|total4|\n",
      "+--------------------+-----+------+\n",
      "|              CARMEN| 3401|   865|\n",
      "|              MERCED| 7091|  1831|\n",
      "|            HOSPITAL|14223|  4011|\n",
      "|            CATEDRAL|11166|  2929|\n",
      "|              ZAPOTE|13157|  3211|\n",
      "|SAN FRANCISCO DE ...|13298|  3332|\n",
      "|               URUCA|11156|  2681|\n",
      "|        MATA REDONDA| 5070|  1692|\n",
      "|               PAVAS|36735|  8780|\n",
      "|             HATILLO|32674|  8175|\n",
      "|       SAN SEBASTI�N|22564|  5467|\n",
      "+--------------------+-----+------+\n",
      "\n"
     ]
    }
   ],
   "source": [
    "newdf.select(['DISTRITO','AT','total4']).show()"
   ]
  },
  {
   "cell_type": "markdown",
   "metadata": {},
   "source": [
    "### Votos total candidato ganador Vrs Abstencionismo"
   ]
  },
  {
   "cell_type": "code",
   "execution_count": 15,
   "metadata": {},
   "outputs": [],
   "source": [
    "totalAT = df3.groupBy().agg(F.sum(\"AT\")).collect()\n",
    "totalASJ = df3.groupBy().agg(F.sum(\"ASJ\")).collect()\n",
    "total = df3.groupBy().agg(F.sum(\"TOTAL\")).collect()"
   ]
  },
  {
   "cell_type": "code",
   "execution_count": 16,
   "metadata": {},
   "outputs": [
    {
     "name": "stdout",
     "output_type": "stream",
     "text": [
      "TOTAL ABSTENCIONES: [Row(sum(AT)=170535)]\n",
      "TOTAL VOTOS GANADOR: [Row(sum(ASJ)=23925)]\n",
      "TOTAL ELECTORES: [Row(sum(TOTAL)=231682)]\n"
     ]
    }
   ],
   "source": [
    "print(\"TOTAL ABSTENCIONES:\",totalAT)\n",
    "print(\"TOTAL VOTOS GANADOR:\",totalASJ)\n",
    "print(\"TOTAL ELECTORES:\",total)"
   ]
  },
  {
   "cell_type": "code",
   "execution_count": 17,
   "metadata": {},
   "outputs": [],
   "source": [
    "columnsNames = (col(\"PAC\"), col(\"PLN\"))"
   ]
  },
  {
   "cell_type": "code",
   "execution_count": null,
   "metadata": {},
   "outputs": [],
   "source": []
  }
 ],
 "metadata": {
  "kernelspec": {
   "display_name": "Python 3",
   "language": "python",
   "name": "python3"
  },
  "language_info": {
   "codemirror_mode": {
    "name": "ipython",
    "version": 3
   },
   "file_extension": ".py",
   "mimetype": "text/x-python",
   "name": "python",
   "nbconvert_exporter": "python",
   "pygments_lexer": "ipython3",
   "version": "3.7.5"
  }
 },
 "nbformat": 4,
 "nbformat_minor": 2
}
